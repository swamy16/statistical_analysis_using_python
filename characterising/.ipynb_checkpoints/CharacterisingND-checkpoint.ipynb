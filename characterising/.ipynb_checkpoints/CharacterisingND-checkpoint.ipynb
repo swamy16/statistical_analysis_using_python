{
 "cells": [
  {
   "cell_type": "code",
   "execution_count": 1,
   "metadata": {},
   "outputs": [],
   "source": [
    "import numpy as np \n",
    "import pandas as pd \n",
    "import matplotlib.pyplot as plt "
   ]
  },
  {
   "cell_type": "markdown",
   "metadata": {},
   "source": [
    "### Covariance\n",
    "\n",
    "In Characterising1D we discussed about variance (the average squared deviation from mean). Covariance is as you have gussed, similar. Suppose we have a data vectoe $x^a$, which has $i$ points... so $x_i^a$ is the first element of data vector. From the previous discussions we have that \n",
    "\n",
    "$$ Var^{a,a} = \\frac{1}{N-1} \\sum_{i=1}^N (x_i^a - \\mu^a)(x_i^a - \\mu^a), $$\n",
    "\n",
    "Another way of stating this is that this is covariance of vector $x^a$ with itself. Notice there are two sets of brackets, bboth use data vector $x^a$.Covariancee is what you get when you change one of the letters. \n",
    "\n",
    "$$ Var^{a,b} = \\frac{1}{N-1} \\sum_{i=1}^N (x_i^a - \\mu^a)(x_i^b - \\mu^b), $$\n",
    "\n",
    "Easy! All we have done now is one set of brackets iterates over a different data vector. The goal is to do this for each different vector you have to form a matrix if we had only two vectors our matrix is this:\n",
    "\n",
    "$$ Cov = \\begin{pmatrix} Var^{a,a} & Var^{a,b} \\\\ Var^{b,a} & Var^{b,b} \\\\ \\end{pmatrix} $$\n",
    "\n",
    "Notice how this is symetric. $Var^{a, b} = Var^{b, a}$ and the diagonals are justt variance for each data vector. The off diagonals are a measure of joint spread between the two. \n",
    "\n",
    "We can calculate covariance using `np.cov` or `pd.DataFrame.cov`"
   ]
  },
  {
   "cell_type": "code",
   "execution_count": 2,
   "metadata": {},
   "outputs": [
    {
     "data": {
      "text/html": [
       "<div>\n",
       "<style scoped>\n",
       "    .dataframe tbody tr th:only-of-type {\n",
       "        vertical-align: middle;\n",
       "    }\n",
       "\n",
       "    .dataframe tbody tr th {\n",
       "        vertical-align: top;\n",
       "    }\n",
       "\n",
       "    .dataframe thead th {\n",
       "        text-align: right;\n",
       "    }\n",
       "</style>\n",
       "<table border=\"1\" class=\"dataframe\">\n",
       "  <thead>\n",
       "    <tr style=\"text-align: right;\">\n",
       "      <th></th>\n",
       "      <th>height</th>\n",
       "      <th>weight</th>\n",
       "    </tr>\n",
       "  </thead>\n",
       "  <tbody>\n",
       "    <tr>\n",
       "      <th>0</th>\n",
       "      <td>71.74</td>\n",
       "      <td>259.88</td>\n",
       "    </tr>\n",
       "    <tr>\n",
       "      <th>1</th>\n",
       "      <td>71.00</td>\n",
       "      <td>186.73</td>\n",
       "    </tr>\n",
       "    <tr>\n",
       "      <th>2</th>\n",
       "      <td>63.83</td>\n",
       "      <td>172.17</td>\n",
       "    </tr>\n",
       "    <tr>\n",
       "      <th>3</th>\n",
       "      <td>67.74</td>\n",
       "      <td>174.66</td>\n",
       "    </tr>\n",
       "    <tr>\n",
       "      <th>4</th>\n",
       "      <td>67.28</td>\n",
       "      <td>169.20</td>\n",
       "    </tr>\n",
       "  </tbody>\n",
       "</table>\n",
       "</div>"
      ],
      "text/plain": [
       "   height  weight\n",
       "0   71.74  259.88\n",
       "1   71.00  186.73\n",
       "2   63.83  172.17\n",
       "3   67.74  174.66\n",
       "4   67.28  169.20"
      ]
     },
     "execution_count": 2,
     "metadata": {},
     "output_type": "execute_result"
    }
   ],
   "source": [
    "dataset = pd.read_csv(\"../data/characterising/height_weight.csv\")[[\"height\", \"weight\"]]\n",
    "dataset.head()"
   ]
  },
  {
   "cell_type": "code",
   "execution_count": 4,
   "metadata": {},
   "outputs": [
    {
     "name": "stdout",
     "output_type": "stream",
     "text": [
      "[[  18.60200779   78.50218098]\n",
      " [  78.50218098 1512.91208783]]\n"
     ]
    }
   ],
   "source": [
    "covariance = np.cov(dataset, rowvar=False)\n",
    "print(covariance)"
   ]
  },
  {
   "cell_type": "code",
   "execution_count": 5,
   "metadata": {},
   "outputs": [
    {
     "name": "stdout",
     "output_type": "stream",
     "text": [
      "           height       weight\n",
      "height  18.602008    78.502181\n",
      "weight  78.502181  1512.912088\n"
     ]
    }
   ],
   "source": [
    "covariance = dataset.cov()\n",
    "print(covariance)"
   ]
  },
  {
   "cell_type": "markdown",
   "metadata": {},
   "source": [
    "### Correlation"
   ]
  },
  {
   "cell_type": "code",
   "execution_count": null,
   "metadata": {},
   "outputs": [],
   "source": []
  }
 ],
 "metadata": {
  "kernelspec": {
   "display_name": "Python 3",
   "language": "python",
   "name": "python3"
  },
  "language_info": {
   "codemirror_mode": {
    "name": "ipython",
    "version": 3
   },
   "file_extension": ".py",
   "mimetype": "text/x-python",
   "name": "python",
   "nbconvert_exporter": "python",
   "pygments_lexer": "ipython3",
   "version": "3.7.3"
  }
 },
 "nbformat": 4,
 "nbformat_minor": 2
}
