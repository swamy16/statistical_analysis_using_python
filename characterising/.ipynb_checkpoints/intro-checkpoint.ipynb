{
 "cells": [
  {
   "cell_type": "markdown",
   "metadata": {},
   "source": [
    "# Why bother characterising data\n",
    "Numbers matter  \n",
    "Every plot should be accompinied by quantification in a presentation or a report. It also saves space.  \n",
    "Summarizing your data down into a few numbers that tries to encapsulate the information insidee that data is useful. If you write two numbers that gives a very good representation of the data, you dont need to spend a paragraph or a plot or several plots trying to describe the data you are already done.  \n",
    "Once you have done your exploratory data analysis you already know what numbers you want to generate to summarize your data. So you dont have to spend time trying to figure out hey maybe I should do this.  \n",
    "Which means its time to move on to **Characterising Distributions** \n",
    "This is one dimensional distributions just like the one with exploratory data analysis. How can you best turn those distributions (those sets of numbers) into just one or two numbers that adequately summarise the information inside them."
   ]
  },
  {
   "cell_type": "code",
   "execution_count": null,
   "metadata": {},
   "outputs": [],
   "source": []
  }
 ],
 "metadata": {
  "kernelspec": {
   "display_name": "Python 3",
   "language": "python",
   "name": "python3"
  },
  "language_info": {
   "codemirror_mode": {
    "name": "ipython",
    "version": 3
   },
   "file_extension": ".py",
   "mimetype": "text/x-python",
   "name": "python",
   "nbconvert_exporter": "python",
   "pygments_lexer": "ipython3",
   "version": "3.7.3"
  }
 },
 "nbformat": 4,
 "nbformat_minor": 2
}
