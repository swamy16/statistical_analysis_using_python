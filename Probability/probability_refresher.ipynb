{
 "cells": [
  {
   "cell_type": "markdown",
   "metadata": {},
   "source": [
    "1. Probabilities range from 0 (impossible) to 1(certain) \n",
    "2. Probabilities sum to 1\n",
    "3. A distribution relates outcome x with probability p(x)\n",
    "4. A mass function is for when you have discrete outcomes "
   ]
  },
  {
   "cell_type": "markdown",
   "metadata": {},
   "source": [
    "# Probability Distributions\n",
    "1. Uniform Distribution: which says that eevery outcome is as probable as every other outcome  \n",
    "\n",
    "$p(x|a,b) = 1/(b-a)$\n",
    "\n",
    "![Uniform Distribution](../data/images_for_md/uniform_distribution.png) \n",
    "This is just to ensure that the area under the curve is equal to one.  \n",
    "\n",
    "2. Normal Distribution: It has the shape of a gaussian and has a parameters size by meean and standard deviation.\n",
    "\n",
    "![Normal Distribution](../data/images_for_md/normal_distribution.png)\n",
    "\n",
    "They are best known for modelling uncertainity and observational error including things like the error on meeans of samples or sample populations thanks to **central limit theorem**. Also theree are many other distributions which will become normal distribution if you parameterize them correctly.\n",
    "\n",
    "3. Binomial Distribution:  \n",
    "![Binomial Distribution](../data/images_for_md/binomial_distribution.png)\n",
    "\n",
    "Notice here we are using $p(k)$ and not $p(x)$ coz this is a discrete function and not a continous function. We will use x for continous and k for discrete. This distribution has parameters by $n$ and $p$.  \n",
    "A binomial distribution will give you the probability of having $k$ successful outcomes given you did something $n$ times and each time you did it, it has a probability of $p$ of having a positive outcome.  \n",
    "eg: Flipping a coin or rolling a dice. You could try and ask the question what is the chance what is the chance that I roll 10 ones when I roll the dice thirty times in total the binomial distribution will give you that value. The binomial is relating te probabilities something happens versus probability it dosen't and whilst these are two outcomes it dosent mean that the input senario needs to only have two outcomes like with the dice we have six outcomes but so long as we lump them down into a rolling a one and not rolling a one we can still use it all that we need to know is the probabilty of a success which in the dice example is 1 in six because you have a 1 in 6 chancee of rolling a 1 and a 5 in 6 chance of rolling anything else. The binomial distribution also assumes that each subsequent roll is independent of each previous one. So if you roll the dicee twice whatever you roll shoudnt have any impact on what you did the second time and because there are tons of events tons of physical things that you can class as a success or failure with some known probabilty which dosent change over the course of time or course of multiple events the binomial distribution has a ton of use.  \n",
    "The plot of binomial resembles a gaussina. as you increase the number of events you are looking at in a binomial distribution it will approach a gaussian (a normal distribution) untill at some point you have so many different outcomes (eg: tossing 50 million heads) that you would approximate it as a normal distribution and just use a normal distribution. "
   ]
  },
  {
   "cell_type": "markdown",
   "metadata": {},
   "source": [
    "4. Poisson Distribution:  \n",
    "![Poisson Distribution](../data/images_for_md/poisson_distribution.png)\n",
    "\n",
    "It is similar in a few ways to binomial distribution. One way is that it is discrete and not continous. Notice that we have the probability $k$ parameters by one parameter $\\mu$. This doesnot represent mean but instead represents a rate. The poisson distribution is used for modelling events that happen at some characteristic rate. That characteristic rate is what $\\mu$ represents. e.g: Radioactive decay each atom has some rate at which it might/mightnot decay but generally that timeframe is known. So the number of atoms that would decay can be modelled by a poisson distribution. The number of calls comming in could be modelled by a poisson distribution. Can model the number of car crashes overnight you could predict the number of car crashes overnight so long as you know the average.\n",
    "\n",
    "5. Exponential Distribution:  \n",
    "![Exponential Distribution](../data/images_for_md/exponential_distribution.png) \n",
    "\n",
    "It is closely related to poisson distribution. Imagine you worked at a repair center and you used the post on distribution to predict or model an number of broken iphones that you generally receive each day. While this is related to the propbabilty that persons iphone will die on any given day which is modelled by exponential distribution. The most famous use of exponential distribution is radioactive decay. The exponential distribution is continous and is parameterised by lambda where lambda is the rate parameter. Exponential distribution is stateless. It dosent matter whether you shift it to right or left it will still look the same. "
   ]
  },
  {
   "cell_type": "markdown",
   "metadata": {},
   "source": [
    "6. Student-T Distribution:  \n",
    "![Student-T Distribution](../data/images_for_md/student-t_distribution.png) \n",
    "\n",
    "7. Log-Normal Distribution:  \n",
    "![Log-Normal Distribution](../data/images_for_md/log-normal_distribution.png) \n",
    "\n",
    "7. Skew-Normal Distribution:  \n",
    "![Skew-Normal Distribution](../data/images_for_md/log-normal_distribution.png) "
   ]
  },
  {
   "cell_type": "code",
   "execution_count": null,
   "metadata": {},
   "outputs": [],
   "source": []
  }
 ],
 "metadata": {
  "kernelspec": {
   "display_name": "Python 3",
   "language": "python",
   "name": "python3"
  },
  "language_info": {
   "codemirror_mode": {
    "name": "ipython",
    "version": 3
   },
   "file_extension": ".py",
   "mimetype": "text/x-python",
   "name": "python",
   "nbconvert_exporter": "python",
   "pygments_lexer": "ipython3",
   "version": "3.7.3"
  }
 },
 "nbformat": 4,
 "nbformat_minor": 2
}
